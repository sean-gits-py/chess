{
 "cells": [
  {
   "cell_type": "code",
   "execution_count": null,
   "id": "initial_id",
   "metadata": {
    "collapsed": true
   },
   "outputs": [],
   "source": [
    "#If not image file, convert from pdf to image \n",
    "from pdf2image import convert_from_path\n",
    "\n",
    "def pdf_to_image(pdf_path):\n",
    "    images = convert_from_path(pdf_path)\n",
    "    return images[0]  # Assuming the chessboard is on the first page"
   ]
  },
  {
   "metadata": {},
   "cell_type": "code",
   "outputs": [],
   "execution_count": null,
   "source": [
    "#preprocess image using OCR\n",
    "import cv2\n",
    "\n",
    "def preprocess_image(image):\n",
    "    gray = cv2.cvtColor(image, cv2.COLOR_BGR2GRAY)\n",
    "    _, thresh = cv2.threshold(gray, 128, 255, cv2.THRESH_BINARY_INV)\n",
    "    return thresh"
   ],
   "id": "7da60b3f0d48c4aa"
  },
  {
   "metadata": {},
   "cell_type": "code",
   "outputs": [],
   "execution_count": null,
   "source": [
    "#detect chess pieces on chessboard\n",
    "import pytesseract\n",
    "\n",
    "def ocr_image(image):\n",
    "    config = '--psm 6'  # Assume a single uniform block of text\n",
    "    pieces_text = pytesseract.image_to_string(image, config=config)\n",
    "    return pieces_text"
   ],
   "id": "da2629661e06a502"
  },
  {
   "metadata": {},
   "cell_type": "code",
   "outputs": [],
   "execution_count": null,
   "source": [
    "#translate OCR output to chess pgn\n",
    "\n",
    "def parse_pieces(pieces_text):\n",
    "    lines = pieces_text.strip().split(\"\\n\")\n",
    "    board = [['' for _ in range(8)] for _ in range(8)]\n",
    "    \n",
    "    for line in lines:\n",
    "        # Parse each line to get the piece and its position\n",
    "        piece, position = line[0], line[1:]  # Simplified for example\n",
    "        col = ord(position[0].lower()) - ord('a')\n",
    "        row = int(position[1]) - 1\n",
    "        board[row][col] = piece\n",
    "\n",
    "    return board"
   ],
   "id": "27d7e9d495b87ac6"
  },
  {
   "metadata": {},
   "cell_type": "code",
   "outputs": [],
   "execution_count": null,
   "source": [
    "import chess\n",
    "import chess.pgn\n",
    "\n",
    "def generate_pgn(board):\n",
    "    game = chess.pgn.Game()\n",
    "    node = game\n",
    "\n",
    "    for row in range(8):\n",
    "        for col in range(8):\n",
    "            piece = board[row][col]\n",
    "            if piece:\n",
    "                node = node.add_variation(chess.Move.from_uci(f\"{chr(col + ord('a'))}{row + 1}\"))\n",
    "\n",
    "    return game\n",
    "\n",
    "# Example usage\n",
    "def main(file_path):\n",
    "    if file_path.endswith('.pdf'):\n",
    "        image = pdf_to_image(file_path)\n",
    "    else:\n",
    "        image = cv2.imread(file_path)\n",
    "\n",
    "    preprocessed_image = preprocess_image(image)\n",
    "    pieces_text = ocr_image(preprocessed_image)\n",
    "    board = parse_pieces(pieces_text)\n",
    "    game = generate_pgn(board)\n",
    "    print(game)\n",
    "\n",
    "# main(\"path_to_your_file\")"
   ],
   "id": "14dcec6cac92f2cd"
  }
 ],
 "metadata": {
  "kernelspec": {
   "display_name": "Python 3",
   "language": "python",
   "name": "python3"
  },
  "language_info": {
   "codemirror_mode": {
    "name": "ipython",
    "version": 2
   },
   "file_extension": ".py",
   "mimetype": "text/x-python",
   "name": "python",
   "nbconvert_exporter": "python",
   "pygments_lexer": "ipython2",
   "version": "2.7.6"
  }
 },
 "nbformat": 4,
 "nbformat_minor": 5
}
