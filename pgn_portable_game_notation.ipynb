{
 "cells": [
  {
   "cell_type": "code",
   "execution_count": null,
   "id": "initial_id",
   "metadata": {
    "collapsed": true
   },
   "outputs": [],
   "source": [
    "import chess.pgn\n",
    "\n",
    "# Supply PGN file\n",
    "with open(\"example.pgn\") as pgn_file:\n",
    "    game = chess.pgn.read_game(pgn_file)\n",
    "\n",
    "# Print PGN game event details\n",
    "print(game.headers[\"Event\"])\n",
    "print(game)\n",
    "\n",
    "# Print the moves\n",
    "board = game.board()\n",
    "for move in game.mainline_moves():\n",
    "    board.push(move)\n",
    "    print(board)"
   ]
  }
 ],
 "metadata": {
  "kernelspec": {
   "display_name": "Python 3",
   "language": "python",
   "name": "python3"
  },
  "language_info": {
   "codemirror_mode": {
    "name": "ipython",
    "version": 2
   },
   "file_extension": ".py",
   "mimetype": "text/x-python",
   "name": "python",
   "nbconvert_exporter": "python",
   "pygments_lexer": "ipython2",
   "version": "2.7.6"
  }
 },
 "nbformat": 4,
 "nbformat_minor": 5
}
