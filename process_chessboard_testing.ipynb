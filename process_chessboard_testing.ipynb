{
 "cells": [
  {
   "cell_type": "code",
   "id": "initial_id",
   "metadata": {
    "collapsed": true,
    "ExecuteTime": {
     "end_time": "2024-07-30T22:05:49.567108Z",
     "start_time": "2024-07-30T22:05:49.479919Z"
    }
   },
   "source": [
    "import pytesseract\n",
    "from PIL import Image\n",
    "from pdf2image import convert_from_path\n",
    "import chess\n",
    "import chess.pgn\n",
    "import re\n",
    "import os\n",
    "from project_keys import tesseract_path #add key specific information here\n",
    "\n",
    "# Print environment variables to check\n",
    "print(f\"TESSDATA_PREFIX: {os.getenv('TESSDATA_PREFIX')}\")\n",
    "print(f\"PATH: {os.getenv('PATH')}\")\n",
    "\n",
    "# Set the TESSDATA_PREFIX environment variable\n",
    "os.environ['TESSDATA_PREFIX'] = '/home/sean/anaconda3/envs/chess_projects/bin/tesseract'\n",
    "\n",
    "# Set the path to the Tesseract executable\n",
    "pytesseract.pytesseract.tesseract_cmd = '/usr/bin/tesseract' #tesseract_path\n",
    "\n",
    "# Function to extract text from image using pytesseract\n",
    "def extract_text_from_image(image_path):\n",
    "    return pytesseract.image_to_string(Image.open(image_path))\n",
    "\n",
    "# Function to convert PDF to images\n",
    "def convert_pdf_to_images(pdf_path):\n",
    "    return convert_from_path(pdf_path)\n",
    "\n",
    "# Function to recognize chess pieces and board state\n",
    "def recognize_chess_board(text):\n",
    "    # Mapping Unicode characters to chess pieces\n",
    "    unicode_pieces = {\n",
    "        '♔': 'K', '♕': 'Q', '♖': 'R', '♗': 'B', '♘': 'N', '♙': 'P',\n",
    "        '♚': 'k', '♛': 'q', '♜': 'r', '♝': 'b', '♞': 'n', '♟': 'p'\n",
    "    }\n",
    "    board = chess.Board()\n",
    "    rows = text.split('\\n')\n",
    "    board_state = \"\"\n",
    "    \n",
    "    # Extract game information (players and date)\n",
    "    game_info = re.search(r'(\\d+)\\.\\s+(\\w+)\\s*-\\s*(\\w+)\\n(\\w+,\\s*\\d+)', text)\n",
    "    if game_info:\n",
    "        game_number, white_player, black_player, date = game_info.groups()\n",
    "    else:\n",
    "        white_player, black_player, date = \"Unknown\", \"Unknown\", \"Unknown\"\n",
    "\n",
    "    # Read board state\n",
    "    for row in rows:\n",
    "        row_state = []\n",
    "        for char in row:\n",
    "            if char in unicode_pieces:\n",
    "                row_state.append(unicode_pieces[char])\n",
    "            elif char == ' ':\n",
    "                row_state.append('1')  # Empty square as '1' in FEN notation\n",
    "        if row_state:\n",
    "            board_state += ''.join(row_state) + '/'\n",
    "\n",
    "    # Convert board state to FEN format\n",
    "    fen = board_state.strip('/').replace('11111111', '8').replace('1111111', '7').replace('111111', '6').replace('11111', '5').replace('1111', '4').replace('111', '3').replace('11', '2')\n",
    "    board.set_fen(fen + ' w KQkq - 0 1')  # Assuming it's White to move and standard initial conditions\n",
    "    \n",
    "    return white_player, black_player, date, board\n",
    "\n",
    "# Function to save game to PGN format\n",
    "def save_to_pgn(white_player, black_player, date, board, output_file):\n",
    "    game = chess.pgn.Game()\n",
    "    game.headers[\"White\"] = white_player\n",
    "    game.headers[\"Black\"] = black_player\n",
    "    game.headers[\"Date\"] = date\n",
    "    game.setup(board)\n",
    "    with open(output_file, \"w\") as pgn_file:\n",
    "        pgn_file.write(str(game))\n",
    "\n",
    "# Main function\n",
    "def process_chess_image(file_path, output_file):\n",
    "    if file_path.endswith('.pdf'):\n",
    "        images = convert_pdf_to_images(file_path)\n",
    "        text = \"\\n\".join([extract_text_from_image(image) for image in images])\n",
    "    else:\n",
    "        text = extract_text_from_image(file_path)\n",
    "\n",
    "    white_player, black_player, date, board = recognize_chess_board(text)\n",
    "    save_to_pgn(white_player, black_player, date, board, output_file)\n",
    "\n",
    "# Example usage\n",
    "process_chess_image('/home/sean/Documents/chess_processing/board_pdf_image_files/Puzzle-One.jpg', '/home/sean/Documents/chess-processing/output_files/py_output_p1_20240730.pgn')\n"
   ],
   "outputs": [
    {
     "name": "stdout",
     "output_type": "stream",
     "text": [
      "TESSDATA_PREFIX: /usr/share/tesseract-ocr/4.00/\n",
      "PATH: /home/sean/anaconda3/envs/chess_projects/bin:/home/sean/anaconda3/condabin:/usr/local/bin:/usr/bin:/bin:/usr/local/games:/usr/games\n"
     ]
    },
    {
     "ename": "TesseractError",
     "evalue": "(1, 'Error opening data file /home/sean/anaconda3/envs/chess_projects/bin/tesseract/eng.traineddata Please make sure the TESSDATA_PREFIX environment variable is set to your \"tessdata\" directory. Failed loading language \\'eng\\' Tesseract couldn\\'t load any languages! Could not initialize tesseract.')",
     "output_type": "error",
     "traceback": [
      "\u001B[0;31m---------------------------------------------------------------------------\u001B[0m",
      "\u001B[0;31mTesseractError\u001B[0m                            Traceback (most recent call last)",
      "Cell \u001B[0;32mIn[9], line 85\u001B[0m\n\u001B[1;32m     82\u001B[0m     save_to_pgn(white_player, black_player, date, board, output_file)\n\u001B[1;32m     84\u001B[0m \u001B[38;5;66;03m# Example usage\u001B[39;00m\n\u001B[0;32m---> 85\u001B[0m process_chess_image(\u001B[38;5;124m'\u001B[39m\u001B[38;5;124m/home/sean/Documents/chess_processing/board_pdf_image_files/Puzzle-One.jpg\u001B[39m\u001B[38;5;124m'\u001B[39m, \u001B[38;5;124m'\u001B[39m\u001B[38;5;124m/home/sean/Documents/chess-processing/output_files/py_output_p1_20240730.pgn\u001B[39m\u001B[38;5;124m'\u001B[39m)\n",
      "Cell \u001B[0;32mIn[9], line 79\u001B[0m, in \u001B[0;36mprocess_chess_image\u001B[0;34m(file_path, output_file)\u001B[0m\n\u001B[1;32m     77\u001B[0m     text \u001B[38;5;241m=\u001B[39m \u001B[38;5;124m\"\u001B[39m\u001B[38;5;130;01m\\n\u001B[39;00m\u001B[38;5;124m\"\u001B[39m\u001B[38;5;241m.\u001B[39mjoin([extract_text_from_image(image) \u001B[38;5;28;01mfor\u001B[39;00m image \u001B[38;5;129;01min\u001B[39;00m images])\n\u001B[1;32m     78\u001B[0m \u001B[38;5;28;01melse\u001B[39;00m:\n\u001B[0;32m---> 79\u001B[0m     text \u001B[38;5;241m=\u001B[39m extract_text_from_image(file_path)\n\u001B[1;32m     81\u001B[0m white_player, black_player, date, board \u001B[38;5;241m=\u001B[39m recognize_chess_board(text)\n\u001B[1;32m     82\u001B[0m save_to_pgn(white_player, black_player, date, board, output_file)\n",
      "Cell \u001B[0;32mIn[9], line 22\u001B[0m, in \u001B[0;36mextract_text_from_image\u001B[0;34m(image_path)\u001B[0m\n\u001B[1;32m     21\u001B[0m \u001B[38;5;28;01mdef\u001B[39;00m \u001B[38;5;21mextract_text_from_image\u001B[39m(image_path):\n\u001B[0;32m---> 22\u001B[0m     \u001B[38;5;28;01mreturn\u001B[39;00m pytesseract\u001B[38;5;241m.\u001B[39mimage_to_string(Image\u001B[38;5;241m.\u001B[39mopen(image_path))\n",
      "File \u001B[0;32m~/anaconda3/envs/chess_projects/lib/python3.11/site-packages/pytesseract/pytesseract.py:423\u001B[0m, in \u001B[0;36mimage_to_string\u001B[0;34m(image, lang, config, nice, output_type, timeout)\u001B[0m\n\u001B[1;32m    418\u001B[0m \u001B[38;5;250m\u001B[39m\u001B[38;5;124;03m\"\"\"\u001B[39;00m\n\u001B[1;32m    419\u001B[0m \u001B[38;5;124;03mReturns the result of a Tesseract OCR run on the provided image to string\u001B[39;00m\n\u001B[1;32m    420\u001B[0m \u001B[38;5;124;03m\"\"\"\u001B[39;00m\n\u001B[1;32m    421\u001B[0m args \u001B[38;5;241m=\u001B[39m [image, \u001B[38;5;124m'\u001B[39m\u001B[38;5;124mtxt\u001B[39m\u001B[38;5;124m'\u001B[39m, lang, config, nice, timeout]\n\u001B[0;32m--> 423\u001B[0m \u001B[38;5;28;01mreturn\u001B[39;00m {\n\u001B[1;32m    424\u001B[0m     Output\u001B[38;5;241m.\u001B[39mBYTES: \u001B[38;5;28;01mlambda\u001B[39;00m: run_and_get_output(\u001B[38;5;241m*\u001B[39m(args \u001B[38;5;241m+\u001B[39m [\u001B[38;5;28;01mTrue\u001B[39;00m])),\n\u001B[1;32m    425\u001B[0m     Output\u001B[38;5;241m.\u001B[39mDICT: \u001B[38;5;28;01mlambda\u001B[39;00m: {\u001B[38;5;124m'\u001B[39m\u001B[38;5;124mtext\u001B[39m\u001B[38;5;124m'\u001B[39m: run_and_get_output(\u001B[38;5;241m*\u001B[39margs)},\n\u001B[1;32m    426\u001B[0m     Output\u001B[38;5;241m.\u001B[39mSTRING: \u001B[38;5;28;01mlambda\u001B[39;00m: run_and_get_output(\u001B[38;5;241m*\u001B[39margs),\n\u001B[1;32m    427\u001B[0m }[output_type]()\n",
      "File \u001B[0;32m~/anaconda3/envs/chess_projects/lib/python3.11/site-packages/pytesseract/pytesseract.py:426\u001B[0m, in \u001B[0;36mimage_to_string.<locals>.<lambda>\u001B[0;34m()\u001B[0m\n\u001B[1;32m    418\u001B[0m \u001B[38;5;250m\u001B[39m\u001B[38;5;124;03m\"\"\"\u001B[39;00m\n\u001B[1;32m    419\u001B[0m \u001B[38;5;124;03mReturns the result of a Tesseract OCR run on the provided image to string\u001B[39;00m\n\u001B[1;32m    420\u001B[0m \u001B[38;5;124;03m\"\"\"\u001B[39;00m\n\u001B[1;32m    421\u001B[0m args \u001B[38;5;241m=\u001B[39m [image, \u001B[38;5;124m'\u001B[39m\u001B[38;5;124mtxt\u001B[39m\u001B[38;5;124m'\u001B[39m, lang, config, nice, timeout]\n\u001B[1;32m    423\u001B[0m \u001B[38;5;28;01mreturn\u001B[39;00m {\n\u001B[1;32m    424\u001B[0m     Output\u001B[38;5;241m.\u001B[39mBYTES: \u001B[38;5;28;01mlambda\u001B[39;00m: run_and_get_output(\u001B[38;5;241m*\u001B[39m(args \u001B[38;5;241m+\u001B[39m [\u001B[38;5;28;01mTrue\u001B[39;00m])),\n\u001B[1;32m    425\u001B[0m     Output\u001B[38;5;241m.\u001B[39mDICT: \u001B[38;5;28;01mlambda\u001B[39;00m: {\u001B[38;5;124m'\u001B[39m\u001B[38;5;124mtext\u001B[39m\u001B[38;5;124m'\u001B[39m: run_and_get_output(\u001B[38;5;241m*\u001B[39margs)},\n\u001B[0;32m--> 426\u001B[0m     Output\u001B[38;5;241m.\u001B[39mSTRING: \u001B[38;5;28;01mlambda\u001B[39;00m: run_and_get_output(\u001B[38;5;241m*\u001B[39margs),\n\u001B[1;32m    427\u001B[0m }[output_type]()\n",
      "File \u001B[0;32m~/anaconda3/envs/chess_projects/lib/python3.11/site-packages/pytesseract/pytesseract.py:288\u001B[0m, in \u001B[0;36mrun_and_get_output\u001B[0;34m(image, extension, lang, config, nice, timeout, return_bytes)\u001B[0m\n\u001B[1;32m    277\u001B[0m \u001B[38;5;28;01mwith\u001B[39;00m save(image) \u001B[38;5;28;01mas\u001B[39;00m (temp_name, input_filename):\n\u001B[1;32m    278\u001B[0m     kwargs \u001B[38;5;241m=\u001B[39m {\n\u001B[1;32m    279\u001B[0m         \u001B[38;5;124m'\u001B[39m\u001B[38;5;124minput_filename\u001B[39m\u001B[38;5;124m'\u001B[39m: input_filename,\n\u001B[1;32m    280\u001B[0m         \u001B[38;5;124m'\u001B[39m\u001B[38;5;124moutput_filename_base\u001B[39m\u001B[38;5;124m'\u001B[39m: temp_name,\n\u001B[0;32m   (...)\u001B[0m\n\u001B[1;32m    285\u001B[0m         \u001B[38;5;124m'\u001B[39m\u001B[38;5;124mtimeout\u001B[39m\u001B[38;5;124m'\u001B[39m: timeout,\n\u001B[1;32m    286\u001B[0m     }\n\u001B[0;32m--> 288\u001B[0m     run_tesseract(\u001B[38;5;241m*\u001B[39m\u001B[38;5;241m*\u001B[39mkwargs)\n\u001B[1;32m    289\u001B[0m     filename \u001B[38;5;241m=\u001B[39m \u001B[38;5;124mf\u001B[39m\u001B[38;5;124m\"\u001B[39m\u001B[38;5;132;01m{\u001B[39;00mkwargs[\u001B[38;5;124m'\u001B[39m\u001B[38;5;124moutput_filename_base\u001B[39m\u001B[38;5;124m'\u001B[39m]\u001B[38;5;132;01m}\u001B[39;00m\u001B[38;5;132;01m{\u001B[39;00mextsep\u001B[38;5;132;01m}\u001B[39;00m\u001B[38;5;132;01m{\u001B[39;00mextension\u001B[38;5;132;01m}\u001B[39;00m\u001B[38;5;124m\"\u001B[39m\n\u001B[1;32m    290\u001B[0m     \u001B[38;5;28;01mwith\u001B[39;00m \u001B[38;5;28mopen\u001B[39m(filename, \u001B[38;5;124m'\u001B[39m\u001B[38;5;124mrb\u001B[39m\u001B[38;5;124m'\u001B[39m) \u001B[38;5;28;01mas\u001B[39;00m output_file:\n",
      "File \u001B[0;32m~/anaconda3/envs/chess_projects/lib/python3.11/site-packages/pytesseract/pytesseract.py:264\u001B[0m, in \u001B[0;36mrun_tesseract\u001B[0;34m(input_filename, output_filename_base, extension, lang, config, nice, timeout)\u001B[0m\n\u001B[1;32m    262\u001B[0m \u001B[38;5;28;01mwith\u001B[39;00m timeout_manager(proc, timeout) \u001B[38;5;28;01mas\u001B[39;00m error_string:\n\u001B[1;32m    263\u001B[0m     \u001B[38;5;28;01mif\u001B[39;00m proc\u001B[38;5;241m.\u001B[39mreturncode:\n\u001B[0;32m--> 264\u001B[0m         \u001B[38;5;28;01mraise\u001B[39;00m TesseractError(proc\u001B[38;5;241m.\u001B[39mreturncode, get_errors(error_string))\n",
      "\u001B[0;31mTesseractError\u001B[0m: (1, 'Error opening data file /home/sean/anaconda3/envs/chess_projects/bin/tesseract/eng.traineddata Please make sure the TESSDATA_PREFIX environment variable is set to your \"tessdata\" directory. Failed loading language \\'eng\\' Tesseract couldn\\'t load any languages! Could not initialize tesseract.')"
     ]
    }
   ],
   "execution_count": 9
  },
  {
   "metadata": {
    "ExecuteTime": {
     "end_time": "2024-07-30T22:14:33.447460Z",
     "start_time": "2024-07-30T22:14:33.374685Z"
    }
   },
   "cell_type": "code",
   "source": [
    "import os\n",
    "import pytesseract\n",
    "from PIL import Image\n",
    "\n",
    "# Verify environment variables\n",
    "print(f\"TESSDATA_PREFIX: {os.getenv('TESSDATA_PREFIX')}\")\n",
    "print(f\"PATH: {os.getenv('PATH')}\")\n",
    "\n",
    "# Set the path to the Tesseract executable\n",
    "pytesseract.pytesseract.tesseract_cmd = '/home/sean/anaconda3/envs/chess_projects/bin/tesseract'\n",
    "\n",
    "# Load an image using PIL\n",
    "image = Image.open('/home/sean/Documents/chess_processing/board_pdf_image_files/Puzzle-One.jpg')\n",
    "\n",
    "# Perform OCR using Tesseract\n",
    "text = pytesseract.image_to_string(image)\n",
    "\n",
    "# Print the extracted text\n",
    "print(text)\n"
   ],
   "id": "4d220b74df129215",
   "outputs": [
    {
     "name": "stdout",
     "output_type": "stream",
     "text": [
      "TESSDATA_PREFIX: /home/sean/anaconda3/envs/chess_projects/bin/tesseract\n",
      "PATH: /home/sean/anaconda3/envs/chess_projects/bin:/home/sean/anaconda3/condabin:/usr/local/bin:/usr/bin:/bin:/usr/local/games:/usr/games\n"
     ]
    },
    {
     "ename": "TesseractNotFoundError",
     "evalue": "/home/sean/anaconda3/envs/chess_projects/bin/tesseract is not installed or it's not in your PATH. See README file for more information.",
     "output_type": "error",
     "traceback": [
      "\u001B[0;31m---------------------------------------------------------------------------\u001B[0m",
      "\u001B[0;31mFileNotFoundError\u001B[0m                         Traceback (most recent call last)",
      "File \u001B[0;32m~/anaconda3/envs/chess_projects/lib/python3.11/site-packages/pytesseract/pytesseract.py:255\u001B[0m, in \u001B[0;36mrun_tesseract\u001B[0;34m(input_filename, output_filename_base, extension, lang, config, nice, timeout)\u001B[0m\n\u001B[1;32m    254\u001B[0m \u001B[38;5;28;01mtry\u001B[39;00m:\n\u001B[0;32m--> 255\u001B[0m     proc \u001B[38;5;241m=\u001B[39m subprocess\u001B[38;5;241m.\u001B[39mPopen(cmd_args, \u001B[38;5;241m*\u001B[39m\u001B[38;5;241m*\u001B[39msubprocess_args())\n\u001B[1;32m    256\u001B[0m \u001B[38;5;28;01mexcept\u001B[39;00m \u001B[38;5;167;01mOSError\u001B[39;00m \u001B[38;5;28;01mas\u001B[39;00m e:\n",
      "File \u001B[0;32m~/anaconda3/envs/chess_projects/lib/python3.11/subprocess.py:1026\u001B[0m, in \u001B[0;36mPopen.__init__\u001B[0;34m(self, args, bufsize, executable, stdin, stdout, stderr, preexec_fn, close_fds, shell, cwd, env, universal_newlines, startupinfo, creationflags, restore_signals, start_new_session, pass_fds, user, group, extra_groups, encoding, errors, text, umask, pipesize, process_group)\u001B[0m\n\u001B[1;32m   1023\u001B[0m             \u001B[38;5;28mself\u001B[39m\u001B[38;5;241m.\u001B[39mstderr \u001B[38;5;241m=\u001B[39m io\u001B[38;5;241m.\u001B[39mTextIOWrapper(\u001B[38;5;28mself\u001B[39m\u001B[38;5;241m.\u001B[39mstderr,\n\u001B[1;32m   1024\u001B[0m                     encoding\u001B[38;5;241m=\u001B[39mencoding, errors\u001B[38;5;241m=\u001B[39merrors)\n\u001B[0;32m-> 1026\u001B[0m     \u001B[38;5;28mself\u001B[39m\u001B[38;5;241m.\u001B[39m_execute_child(args, executable, preexec_fn, close_fds,\n\u001B[1;32m   1027\u001B[0m                         pass_fds, cwd, env,\n\u001B[1;32m   1028\u001B[0m                         startupinfo, creationflags, shell,\n\u001B[1;32m   1029\u001B[0m                         p2cread, p2cwrite,\n\u001B[1;32m   1030\u001B[0m                         c2pread, c2pwrite,\n\u001B[1;32m   1031\u001B[0m                         errread, errwrite,\n\u001B[1;32m   1032\u001B[0m                         restore_signals,\n\u001B[1;32m   1033\u001B[0m                         gid, gids, uid, umask,\n\u001B[1;32m   1034\u001B[0m                         start_new_session, process_group)\n\u001B[1;32m   1035\u001B[0m \u001B[38;5;28;01mexcept\u001B[39;00m:\n\u001B[1;32m   1036\u001B[0m     \u001B[38;5;66;03m# Cleanup if the child failed starting.\u001B[39;00m\n",
      "File \u001B[0;32m~/anaconda3/envs/chess_projects/lib/python3.11/subprocess.py:1955\u001B[0m, in \u001B[0;36mPopen._execute_child\u001B[0;34m(self, args, executable, preexec_fn, close_fds, pass_fds, cwd, env, startupinfo, creationflags, shell, p2cread, p2cwrite, c2pread, c2pwrite, errread, errwrite, restore_signals, gid, gids, uid, umask, start_new_session, process_group)\u001B[0m\n\u001B[1;32m   1954\u001B[0m \u001B[38;5;28;01mif\u001B[39;00m err_filename \u001B[38;5;129;01mis\u001B[39;00m \u001B[38;5;129;01mnot\u001B[39;00m \u001B[38;5;28;01mNone\u001B[39;00m:\n\u001B[0;32m-> 1955\u001B[0m     \u001B[38;5;28;01mraise\u001B[39;00m child_exception_type(errno_num, err_msg, err_filename)\n\u001B[1;32m   1956\u001B[0m \u001B[38;5;28;01melse\u001B[39;00m:\n",
      "\u001B[0;31mFileNotFoundError\u001B[0m: [Errno 2] No such file or directory: '/home/sean/anaconda3/envs/chess_projects/bin/tesseract'",
      "\nDuring handling of the above exception, another exception occurred:\n",
      "\u001B[0;31mTesseractNotFoundError\u001B[0m                    Traceback (most recent call last)",
      "Cell \u001B[0;32mIn[13], line 16\u001B[0m\n\u001B[1;32m     13\u001B[0m image \u001B[38;5;241m=\u001B[39m Image\u001B[38;5;241m.\u001B[39mopen(\u001B[38;5;124m'\u001B[39m\u001B[38;5;124m/home/sean/Documents/chess_processing/board_pdf_image_files/Puzzle-One.jpg\u001B[39m\u001B[38;5;124m'\u001B[39m)\n\u001B[1;32m     15\u001B[0m \u001B[38;5;66;03m# Perform OCR using Tesseract\u001B[39;00m\n\u001B[0;32m---> 16\u001B[0m text \u001B[38;5;241m=\u001B[39m pytesseract\u001B[38;5;241m.\u001B[39mimage_to_string(image)\n\u001B[1;32m     18\u001B[0m \u001B[38;5;66;03m# Print the extracted text\u001B[39;00m\n\u001B[1;32m     19\u001B[0m \u001B[38;5;28mprint\u001B[39m(text)\n",
      "File \u001B[0;32m~/anaconda3/envs/chess_projects/lib/python3.11/site-packages/pytesseract/pytesseract.py:423\u001B[0m, in \u001B[0;36mimage_to_string\u001B[0;34m(image, lang, config, nice, output_type, timeout)\u001B[0m\n\u001B[1;32m    418\u001B[0m \u001B[38;5;250m\u001B[39m\u001B[38;5;124;03m\"\"\"\u001B[39;00m\n\u001B[1;32m    419\u001B[0m \u001B[38;5;124;03mReturns the result of a Tesseract OCR run on the provided image to string\u001B[39;00m\n\u001B[1;32m    420\u001B[0m \u001B[38;5;124;03m\"\"\"\u001B[39;00m\n\u001B[1;32m    421\u001B[0m args \u001B[38;5;241m=\u001B[39m [image, \u001B[38;5;124m'\u001B[39m\u001B[38;5;124mtxt\u001B[39m\u001B[38;5;124m'\u001B[39m, lang, config, nice, timeout]\n\u001B[0;32m--> 423\u001B[0m \u001B[38;5;28;01mreturn\u001B[39;00m {\n\u001B[1;32m    424\u001B[0m     Output\u001B[38;5;241m.\u001B[39mBYTES: \u001B[38;5;28;01mlambda\u001B[39;00m: run_and_get_output(\u001B[38;5;241m*\u001B[39m(args \u001B[38;5;241m+\u001B[39m [\u001B[38;5;28;01mTrue\u001B[39;00m])),\n\u001B[1;32m    425\u001B[0m     Output\u001B[38;5;241m.\u001B[39mDICT: \u001B[38;5;28;01mlambda\u001B[39;00m: {\u001B[38;5;124m'\u001B[39m\u001B[38;5;124mtext\u001B[39m\u001B[38;5;124m'\u001B[39m: run_and_get_output(\u001B[38;5;241m*\u001B[39margs)},\n\u001B[1;32m    426\u001B[0m     Output\u001B[38;5;241m.\u001B[39mSTRING: \u001B[38;5;28;01mlambda\u001B[39;00m: run_and_get_output(\u001B[38;5;241m*\u001B[39margs),\n\u001B[1;32m    427\u001B[0m }[output_type]()\n",
      "File \u001B[0;32m~/anaconda3/envs/chess_projects/lib/python3.11/site-packages/pytesseract/pytesseract.py:426\u001B[0m, in \u001B[0;36mimage_to_string.<locals>.<lambda>\u001B[0;34m()\u001B[0m\n\u001B[1;32m    418\u001B[0m \u001B[38;5;250m\u001B[39m\u001B[38;5;124;03m\"\"\"\u001B[39;00m\n\u001B[1;32m    419\u001B[0m \u001B[38;5;124;03mReturns the result of a Tesseract OCR run on the provided image to string\u001B[39;00m\n\u001B[1;32m    420\u001B[0m \u001B[38;5;124;03m\"\"\"\u001B[39;00m\n\u001B[1;32m    421\u001B[0m args \u001B[38;5;241m=\u001B[39m [image, \u001B[38;5;124m'\u001B[39m\u001B[38;5;124mtxt\u001B[39m\u001B[38;5;124m'\u001B[39m, lang, config, nice, timeout]\n\u001B[1;32m    423\u001B[0m \u001B[38;5;28;01mreturn\u001B[39;00m {\n\u001B[1;32m    424\u001B[0m     Output\u001B[38;5;241m.\u001B[39mBYTES: \u001B[38;5;28;01mlambda\u001B[39;00m: run_and_get_output(\u001B[38;5;241m*\u001B[39m(args \u001B[38;5;241m+\u001B[39m [\u001B[38;5;28;01mTrue\u001B[39;00m])),\n\u001B[1;32m    425\u001B[0m     Output\u001B[38;5;241m.\u001B[39mDICT: \u001B[38;5;28;01mlambda\u001B[39;00m: {\u001B[38;5;124m'\u001B[39m\u001B[38;5;124mtext\u001B[39m\u001B[38;5;124m'\u001B[39m: run_and_get_output(\u001B[38;5;241m*\u001B[39margs)},\n\u001B[0;32m--> 426\u001B[0m     Output\u001B[38;5;241m.\u001B[39mSTRING: \u001B[38;5;28;01mlambda\u001B[39;00m: run_and_get_output(\u001B[38;5;241m*\u001B[39margs),\n\u001B[1;32m    427\u001B[0m }[output_type]()\n",
      "File \u001B[0;32m~/anaconda3/envs/chess_projects/lib/python3.11/site-packages/pytesseract/pytesseract.py:288\u001B[0m, in \u001B[0;36mrun_and_get_output\u001B[0;34m(image, extension, lang, config, nice, timeout, return_bytes)\u001B[0m\n\u001B[1;32m    277\u001B[0m \u001B[38;5;28;01mwith\u001B[39;00m save(image) \u001B[38;5;28;01mas\u001B[39;00m (temp_name, input_filename):\n\u001B[1;32m    278\u001B[0m     kwargs \u001B[38;5;241m=\u001B[39m {\n\u001B[1;32m    279\u001B[0m         \u001B[38;5;124m'\u001B[39m\u001B[38;5;124minput_filename\u001B[39m\u001B[38;5;124m'\u001B[39m: input_filename,\n\u001B[1;32m    280\u001B[0m         \u001B[38;5;124m'\u001B[39m\u001B[38;5;124moutput_filename_base\u001B[39m\u001B[38;5;124m'\u001B[39m: temp_name,\n\u001B[0;32m   (...)\u001B[0m\n\u001B[1;32m    285\u001B[0m         \u001B[38;5;124m'\u001B[39m\u001B[38;5;124mtimeout\u001B[39m\u001B[38;5;124m'\u001B[39m: timeout,\n\u001B[1;32m    286\u001B[0m     }\n\u001B[0;32m--> 288\u001B[0m     run_tesseract(\u001B[38;5;241m*\u001B[39m\u001B[38;5;241m*\u001B[39mkwargs)\n\u001B[1;32m    289\u001B[0m     filename \u001B[38;5;241m=\u001B[39m \u001B[38;5;124mf\u001B[39m\u001B[38;5;124m\"\u001B[39m\u001B[38;5;132;01m{\u001B[39;00mkwargs[\u001B[38;5;124m'\u001B[39m\u001B[38;5;124moutput_filename_base\u001B[39m\u001B[38;5;124m'\u001B[39m]\u001B[38;5;132;01m}\u001B[39;00m\u001B[38;5;132;01m{\u001B[39;00mextsep\u001B[38;5;132;01m}\u001B[39;00m\u001B[38;5;132;01m{\u001B[39;00mextension\u001B[38;5;132;01m}\u001B[39;00m\u001B[38;5;124m\"\u001B[39m\n\u001B[1;32m    290\u001B[0m     \u001B[38;5;28;01mwith\u001B[39;00m \u001B[38;5;28mopen\u001B[39m(filename, \u001B[38;5;124m'\u001B[39m\u001B[38;5;124mrb\u001B[39m\u001B[38;5;124m'\u001B[39m) \u001B[38;5;28;01mas\u001B[39;00m output_file:\n",
      "File \u001B[0;32m~/anaconda3/envs/chess_projects/lib/python3.11/site-packages/pytesseract/pytesseract.py:260\u001B[0m, in \u001B[0;36mrun_tesseract\u001B[0;34m(input_filename, output_filename_base, extension, lang, config, nice, timeout)\u001B[0m\n\u001B[1;32m    258\u001B[0m         \u001B[38;5;28;01mraise\u001B[39;00m\n\u001B[1;32m    259\u001B[0m     \u001B[38;5;28;01melse\u001B[39;00m:\n\u001B[0;32m--> 260\u001B[0m         \u001B[38;5;28;01mraise\u001B[39;00m TesseractNotFoundError()\n\u001B[1;32m    262\u001B[0m \u001B[38;5;28;01mwith\u001B[39;00m timeout_manager(proc, timeout) \u001B[38;5;28;01mas\u001B[39;00m error_string:\n\u001B[1;32m    263\u001B[0m     \u001B[38;5;28;01mif\u001B[39;00m proc\u001B[38;5;241m.\u001B[39mreturncode:\n",
      "\u001B[0;31mTesseractNotFoundError\u001B[0m: /home/sean/anaconda3/envs/chess_projects/bin/tesseract is not installed or it's not in your PATH. See README file for more information."
     ]
    }
   ],
   "execution_count": 13
  },
  {
   "metadata": {},
   "cell_type": "code",
   "outputs": [],
   "execution_count": null,
   "source": "",
   "id": "26b88ef4c47e8964"
  }
 ],
 "metadata": {
  "kernelspec": {
   "display_name": "Python 3",
   "language": "python",
   "name": "python3"
  },
  "language_info": {
   "codemirror_mode": {
    "name": "ipython",
    "version": 2
   },
   "file_extension": ".py",
   "mimetype": "text/x-python",
   "name": "python",
   "nbconvert_exporter": "python",
   "pygments_lexer": "ipython2",
   "version": "2.7.6"
  }
 },
 "nbformat": 4,
 "nbformat_minor": 5
}
