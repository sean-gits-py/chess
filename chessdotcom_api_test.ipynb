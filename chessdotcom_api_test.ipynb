{
 "cells": [
  {
   "cell_type": "code",
   "execution_count": null,
   "id": "initial_id",
   "metadata": {
    "collapsed": true
   },
   "outputs": [],
   "source": [
    "import requests\n",
    "\n",
    "def get_player_profile(username):\n",
    "    url = f\"https://api.chess.com/pub/player/{username}\"\n",
    "    response = requests.get(url)\n",
    "    if response.status_code == 200:\n",
    "        return response.json()\n",
    "    else:\n",
    "        return None\n",
    "\n",
    "username = \"magnuscarlsen\"\n",
    "profile = get_player_profile(username)\n",
    "\n",
    "if profile:\n",
    "    print(f\"Username: {profile['username']}\")\n",
    "    print(f\"Name: {profile['name']}\")\n",
    "    print(f\"Title: {profile['title']}\")\n",
    "    print(f\"Location: {profile['location']}\")\n",
    "    print(f\"Joined: {profile['joined']}\")\n",
    "    print(f\"Last Online: {profile['last_online']}\")\n",
    "else:\n",
    "    print(\"Player not found\")"
   ]
  },
  {
   "metadata": {},
   "cell_type": "code",
   "outputs": [],
   "execution_count": null,
   "source": "",
   "id": "6eca0bb7422ab6a"
  },
  {
   "metadata": {},
   "cell_type": "code",
   "outputs": [],
   "execution_count": null,
   "source": "",
   "id": "3d39a75513e42628"
  }
 ],
 "metadata": {
  "kernelspec": {
   "display_name": "Python 3",
   "language": "python",
   "name": "python3"
  },
  "language_info": {
   "codemirror_mode": {
    "name": "ipython",
    "version": 2
   },
   "file_extension": ".py",
   "mimetype": "text/x-python",
   "name": "python",
   "nbconvert_exporter": "python",
   "pygments_lexer": "ipython2",
   "version": "2.7.6"
  }
 },
 "nbformat": 4,
 "nbformat_minor": 5
}
